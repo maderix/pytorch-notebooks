{
  "nbformat": 4,
  "nbformat_minor": 0,
  "metadata": {
    "colab": {
      "name": "02-pytorch_cifar10_tutorial.ipynb",
      "provenance": [],
      "collapsed_sections": [],
      "authorship_tag": "ABX9TyPriPJFCgbCgnH2529Jr0rX",
      "include_colab_link": true
    },
    "kernelspec": {
      "name": "python3",
      "display_name": "Python 3"
    },
    "language_info": {
      "name": "python"
    },
    "accelerator": "GPU",
    "widgets": {
      "application/vnd.jupyter.widget-state+json": {
        "5af6c0f1f2a1420abb8538f0984a440f": {
          "model_module": "@jupyter-widgets/controls",
          "model_name": "HBoxModel",
          "state": {
            "_view_name": "HBoxView",
            "_dom_classes": [],
            "_model_name": "HBoxModel",
            "_view_module": "@jupyter-widgets/controls",
            "_model_module_version": "1.5.0",
            "_view_count": null,
            "_view_module_version": "1.5.0",
            "box_style": "",
            "layout": "IPY_MODEL_e268fbc7e60e49d9a629895dc25fb1b9",
            "_model_module": "@jupyter-widgets/controls",
            "children": [
              "IPY_MODEL_3721239db5494490a5c9341d934db0b1",
              "IPY_MODEL_a7706d2ec9574be9804b797e84e41a9e"
            ]
          }
        },
        "e268fbc7e60e49d9a629895dc25fb1b9": {
          "model_module": "@jupyter-widgets/base",
          "model_name": "LayoutModel",
          "state": {
            "_view_name": "LayoutView",
            "grid_template_rows": null,
            "right": null,
            "justify_content": null,
            "_view_module": "@jupyter-widgets/base",
            "overflow": null,
            "_model_module_version": "1.2.0",
            "_view_count": null,
            "flex_flow": null,
            "width": null,
            "min_width": null,
            "border": null,
            "align_items": null,
            "bottom": null,
            "_model_module": "@jupyter-widgets/base",
            "top": null,
            "grid_column": null,
            "overflow_y": null,
            "overflow_x": null,
            "grid_auto_flow": null,
            "grid_area": null,
            "grid_template_columns": null,
            "flex": null,
            "_model_name": "LayoutModel",
            "justify_items": null,
            "grid_row": null,
            "max_height": null,
            "align_content": null,
            "visibility": null,
            "align_self": null,
            "height": null,
            "min_height": null,
            "padding": null,
            "grid_auto_rows": null,
            "grid_gap": null,
            "max_width": null,
            "order": null,
            "_view_module_version": "1.2.0",
            "grid_template_areas": null,
            "object_position": null,
            "object_fit": null,
            "grid_auto_columns": null,
            "margin": null,
            "display": null,
            "left": null
          }
        },
        "3721239db5494490a5c9341d934db0b1": {
          "model_module": "@jupyter-widgets/controls",
          "model_name": "FloatProgressModel",
          "state": {
            "_view_name": "ProgressView",
            "style": "IPY_MODEL_a59c885d4924431fa3bf8c421d712730",
            "_dom_classes": [],
            "description": "",
            "_model_name": "FloatProgressModel",
            "bar_style": "success",
            "max": 170498071,
            "_view_module": "@jupyter-widgets/controls",
            "_model_module_version": "1.5.0",
            "value": 170498071,
            "_view_count": null,
            "_view_module_version": "1.5.0",
            "orientation": "horizontal",
            "min": 0,
            "description_tooltip": null,
            "_model_module": "@jupyter-widgets/controls",
            "layout": "IPY_MODEL_5ebbd6e97bfa46db8f68ed56d941fe68"
          }
        },
        "a7706d2ec9574be9804b797e84e41a9e": {
          "model_module": "@jupyter-widgets/controls",
          "model_name": "HTMLModel",
          "state": {
            "_view_name": "HTMLView",
            "style": "IPY_MODEL_516132c55d1c460983da112a85b9d9c7",
            "_dom_classes": [],
            "description": "",
            "_model_name": "HTMLModel",
            "placeholder": "​",
            "_view_module": "@jupyter-widgets/controls",
            "_model_module_version": "1.5.0",
            "value": " 170499072/? [32:36&lt;00:00, 87142.94it/s]",
            "_view_count": null,
            "_view_module_version": "1.5.0",
            "description_tooltip": null,
            "_model_module": "@jupyter-widgets/controls",
            "layout": "IPY_MODEL_1058d802e54b4764a88e5cab817b24d0"
          }
        },
        "a59c885d4924431fa3bf8c421d712730": {
          "model_module": "@jupyter-widgets/controls",
          "model_name": "ProgressStyleModel",
          "state": {
            "_view_name": "StyleView",
            "_model_name": "ProgressStyleModel",
            "description_width": "initial",
            "_view_module": "@jupyter-widgets/base",
            "_model_module_version": "1.5.0",
            "_view_count": null,
            "_view_module_version": "1.2.0",
            "bar_color": null,
            "_model_module": "@jupyter-widgets/controls"
          }
        },
        "5ebbd6e97bfa46db8f68ed56d941fe68": {
          "model_module": "@jupyter-widgets/base",
          "model_name": "LayoutModel",
          "state": {
            "_view_name": "LayoutView",
            "grid_template_rows": null,
            "right": null,
            "justify_content": null,
            "_view_module": "@jupyter-widgets/base",
            "overflow": null,
            "_model_module_version": "1.2.0",
            "_view_count": null,
            "flex_flow": null,
            "width": null,
            "min_width": null,
            "border": null,
            "align_items": null,
            "bottom": null,
            "_model_module": "@jupyter-widgets/base",
            "top": null,
            "grid_column": null,
            "overflow_y": null,
            "overflow_x": null,
            "grid_auto_flow": null,
            "grid_area": null,
            "grid_template_columns": null,
            "flex": null,
            "_model_name": "LayoutModel",
            "justify_items": null,
            "grid_row": null,
            "max_height": null,
            "align_content": null,
            "visibility": null,
            "align_self": null,
            "height": null,
            "min_height": null,
            "padding": null,
            "grid_auto_rows": null,
            "grid_gap": null,
            "max_width": null,
            "order": null,
            "_view_module_version": "1.2.0",
            "grid_template_areas": null,
            "object_position": null,
            "object_fit": null,
            "grid_auto_columns": null,
            "margin": null,
            "display": null,
            "left": null
          }
        },
        "516132c55d1c460983da112a85b9d9c7": {
          "model_module": "@jupyter-widgets/controls",
          "model_name": "DescriptionStyleModel",
          "state": {
            "_view_name": "StyleView",
            "_model_name": "DescriptionStyleModel",
            "description_width": "",
            "_view_module": "@jupyter-widgets/base",
            "_model_module_version": "1.5.0",
            "_view_count": null,
            "_view_module_version": "1.2.0",
            "_model_module": "@jupyter-widgets/controls"
          }
        },
        "1058d802e54b4764a88e5cab817b24d0": {
          "model_module": "@jupyter-widgets/base",
          "model_name": "LayoutModel",
          "state": {
            "_view_name": "LayoutView",
            "grid_template_rows": null,
            "right": null,
            "justify_content": null,
            "_view_module": "@jupyter-widgets/base",
            "overflow": null,
            "_model_module_version": "1.2.0",
            "_view_count": null,
            "flex_flow": null,
            "width": null,
            "min_width": null,
            "border": null,
            "align_items": null,
            "bottom": null,
            "_model_module": "@jupyter-widgets/base",
            "top": null,
            "grid_column": null,
            "overflow_y": null,
            "overflow_x": null,
            "grid_auto_flow": null,
            "grid_area": null,
            "grid_template_columns": null,
            "flex": null,
            "_model_name": "LayoutModel",
            "justify_items": null,
            "grid_row": null,
            "max_height": null,
            "align_content": null,
            "visibility": null,
            "align_self": null,
            "height": null,
            "min_height": null,
            "padding": null,
            "grid_auto_rows": null,
            "grid_gap": null,
            "max_width": null,
            "order": null,
            "_view_module_version": "1.2.0",
            "grid_template_areas": null,
            "object_position": null,
            "object_fit": null,
            "grid_auto_columns": null,
            "margin": null,
            "display": null,
            "left": null
          }
        }
      }
    }
  },
  "cells": [
    {
      "cell_type": "markdown",
      "metadata": {
        "id": "view-in-github",
        "colab_type": "text"
      },
      "source": [
        "<a href=\"https://colab.research.google.com/github/maderix/pytorch-notebooks/blob/main/02_pytorch_cifar10_tutorial.ipynb\" target=\"_parent\"><img src=\"https://colab.research.google.com/assets/colab-badge.svg\" alt=\"Open In Colab\"/></a>"
      ]
    },
    {
      "cell_type": "markdown",
      "metadata": {
        "id": "yiIlbUjWpV_e"
      },
      "source": [
        "# CIFAR10 model\n",
        "CIFAR10 is slightly more complicated than MNIST. The major difference is the increase in channels - RGB(3) vs Gray(1). So we might need a deeper net.\n",
        "The good thing is that the dataset loading and training procedure will remain similar."
      ]
    },
    {
      "cell_type": "code",
      "metadata": {
        "colab": {
          "base_uri": "https://localhost:8080/"
        },
        "id": "z8eZ2DekhMqP",
        "outputId": "5d41f6c5-80a7-4a12-cefb-d877fbfe1689"
      },
      "source": [
        "import torch\n",
        "import torch.nn as nn\n",
        "import torch.nn.functional as F\n",
        "import torch.optim as optim\n",
        "device = torch.device('cuda' if torch.cuda.is_available() else 'cpu')\n",
        "random_seed = 1\n",
        "torch.backends.cudnn.enabled = True\n",
        "torch.manual_seed(random_seed)"
      ],
      "execution_count": 1,
      "outputs": [
        {
          "output_type": "execute_result",
          "data": {
            "text/plain": [
              "<torch._C.Generator at 0x7f6d480b5510>"
            ]
          },
          "metadata": {
            "tags": []
          },
          "execution_count": 1
        }
      ]
    },
    {
      "cell_type": "code",
      "metadata": {
        "id": "2_izt8Qbp0UZ"
      },
      "source": [
        "import torchvision\n",
        "import torchvision.datasets as datasets\n",
        "import torchvision.transforms as transforms"
      ],
      "execution_count": 2,
      "outputs": []
    },
    {
      "cell_type": "code",
      "metadata": {
        "id": "jm90iJgTp-pt"
      },
      "source": [
        "transform = transforms.Compose([\n",
        "                                 transforms.ToTensor(),\n",
        "                                 transforms.Normalize((0.485, 0.456, 0.406), (0.229, 0.224, 0.225)),\n",
        "                                ])"
      ],
      "execution_count": 3,
      "outputs": []
    },
    {
      "cell_type": "code",
      "metadata": {
        "colab": {
          "base_uri": "https://localhost:8080/",
          "height": 116,
          "referenced_widgets": [
            "5af6c0f1f2a1420abb8538f0984a440f",
            "e268fbc7e60e49d9a629895dc25fb1b9",
            "3721239db5494490a5c9341d934db0b1",
            "a7706d2ec9574be9804b797e84e41a9e",
            "a59c885d4924431fa3bf8c421d712730",
            "5ebbd6e97bfa46db8f68ed56d941fe68",
            "516132c55d1c460983da112a85b9d9c7",
            "1058d802e54b4764a88e5cab817b24d0"
          ]
        },
        "id": "qYbIzfNdffI3",
        "outputId": "ff6151da-4405-45df-96bc-d36e9dc2b2f7"
      },
      "source": [
        "cifar10_trainset = datasets.CIFAR10(root='./data',train=True,download=True, transform=transform)\n",
        "cifar10_testset = datasets.CIFAR10(root='./data',train=False,download=True, transform=transform)"
      ],
      "execution_count": 4,
      "outputs": [
        {
          "output_type": "stream",
          "text": [
            "Downloading https://www.cs.toronto.edu/~kriz/cifar-10-python.tar.gz to ./data/cifar-10-python.tar.gz\n"
          ],
          "name": "stdout"
        },
        {
          "output_type": "display_data",
          "data": {
            "application/vnd.jupyter.widget-view+json": {
              "model_id": "5af6c0f1f2a1420abb8538f0984a440f",
              "version_minor": 0,
              "version_major": 2
            },
            "text/plain": [
              "HBox(children=(FloatProgress(value=0.0, max=170498071.0), HTML(value='')))"
            ]
          },
          "metadata": {
            "tags": []
          }
        },
        {
          "output_type": "stream",
          "text": [
            "\n",
            "Extracting ./data/cifar-10-python.tar.gz to ./data\n",
            "Files already downloaded and verified\n"
          ],
          "name": "stdout"
        }
      ]
    },
    {
      "cell_type": "code",
      "metadata": {
        "id": "87osiFj0gBhU"
      },
      "source": [
        "train_loader = torch.utils.data.DataLoader(cifar10_trainset, batch_size=64, shuffle=True)\n",
        "test_loader = torch.utils.data.DataLoader(cifar10_testset, batch_size=32)"
      ],
      "execution_count": 5,
      "outputs": []
    },
    {
      "cell_type": "code",
      "metadata": {
        "colab": {
          "base_uri": "https://localhost:8080/",
          "height": 353
        },
        "id": "v2VSCc2KhD6f",
        "outputId": "1e7a62c0-5cb0-4e8b-e75b-17b25e4bcc02"
      },
      "source": [
        "import numpy as np\n",
        "import matplotlib.pyplot as plt\n",
        "images,labels = next(iter(train_loader))\n",
        "print(np.max(images.numpy()),np.min(images.numpy()),labels)\n",
        "plt.imshow(torchvision.utils.make_grid(images).numpy().transpose(1,2,0))"
      ],
      "execution_count": 6,
      "outputs": [
        {
          "output_type": "stream",
          "text": [
            "Clipping input data to the valid range for imshow with RGB data ([0..1] for floats or [0..255] for integers).\n"
          ],
          "name": "stderr"
        },
        {
          "output_type": "stream",
          "text": [
            "2.64 -2.117904 tensor([4, 1, 7, 5, 2, 9, 5, 9, 8, 1, 5, 6, 7, 8, 6, 5, 9, 6, 8, 1, 4, 9, 9, 4,\n",
            "        0, 0, 5, 8, 5, 5, 3, 9, 1, 9, 8, 6, 3, 1, 5, 4, 6, 8, 9, 3, 0, 9, 0, 0,\n",
            "        5, 8, 1, 1, 6, 9, 9, 8, 7, 8, 7, 4, 9, 5, 4, 2])\n"
          ],
          "name": "stdout"
        },
        {
          "output_type": "execute_result",
          "data": {
            "text/plain": [
              "<matplotlib.image.AxesImage at 0x7f6d3deb9790>"
            ]
          },
          "metadata": {
            "tags": []
          },
          "execution_count": 6
        },
        {
          "output_type": "display_data",
          "data": {
            "image/png": "[encoded data removed]",
            "text/plain": [
              "<Figure size 432x288 with 1 Axes>"
            ]
          },
          "metadata": {
            "tags": [],
            "needs_background": "light"
          }
        }
      ]
    },
    {
      "cell_type": "markdown",
      "metadata": {
        "id": "E_brYL0mk7SX"
      },
      "source": [
        "# Creating the network\n",
        "We'll create a simple CNN which takes a 32x32x3 size images and returns a probability distribution of 10 classes. This is very similar to the MNIST task."
      ]
    },
    {
      "cell_type": "code",
      "metadata": {
        "colab": {
          "base_uri": "https://localhost:8080/"
        },
        "id": "ywMpGKhkiiqd",
        "outputId": "f6232874-f868-4e68-dcb5-17cc630958e9"
      },
      "source": [
        "class CIFARNet(nn.Module):\n",
        "  def __init__(self):\n",
        "    super(CIFARNet,self).__init__()\n",
        "    self.conv1 = nn.Conv2d(3, 32, 3, 1)\n",
        "    self.bn1 = nn.BatchNorm2d(32)\n",
        "    self.conv2 = nn.Conv2d(32, 64, 3, 1)\n",
        "    self.bn2 = nn.BatchNorm2d(64)\n",
        "    self.conv3 = nn.Conv2d(64, 128, 3, 1)\n",
        "    self.bn3 = nn.BatchNorm2d(128)\n",
        "    self.conv4 = nn.Conv2d(128, 256, 3, 1)\n",
        "    self.bn4 = nn.BatchNorm2d(256)\n",
        "\n",
        "    self.dropout1 = nn.Dropout2d(0.25)\n",
        "    #self.dropout2 = nn.Dropout(0.5)\n",
        "\n",
        "    #fully connected layers for categorizing the image features\n",
        "    self.fc1 = nn.Linear(256*12*12, 128)\n",
        "    self.fc2 = nn.Linear(128, 10)\n",
        "  #forward function will determine how data passes through our model\n",
        "  def forward(self, x):\n",
        "    x = self.conv1(x)\n",
        "    x = self.bn1(x)\n",
        "    x = F.relu(x)\n",
        "    #second block\n",
        "    x = self.conv2(x)\n",
        "    x = self.bn2(x)\n",
        "    x = F.relu(x)\n",
        "    #Third block\n",
        "    x = self.conv3(x)\n",
        "    x = self.bn3(x)\n",
        "    x = F.relu(x)\n",
        "    #Fourth block\n",
        "    x = self.conv4(x)\n",
        "    x = self.bn4(x)\n",
        "    x = F.relu(x)\n",
        "    #create a maxpooling layer to reduce the compute requirements\n",
        "    x = F.max_pool2d(x , 2)\n",
        "    # pass data through the dropouts\n",
        "    #x = self.dropout1(x)\n",
        "    #flatten the data so that it can pass through fc layers\n",
        "    x = torch.flatten(x,1)\n",
        "    #fully connected/dense block.\n",
        "    x = self.fc1(x)\n",
        "    x = F.relu(x)\n",
        "    x = self.dropout1(x)\n",
        "    x = self.fc2(x)\n",
        "    #we'll apply softmax to the final output to get nice probabilities for each digit\n",
        "    output = F.log_softmax(x,dim=1)\n",
        "    return output\n",
        "    \n",
        "cnet = CIFARNet()\n",
        "print(cnet)"
      ],
      "execution_count": 27,
      "outputs": [
        {
          "output_type": "stream",
          "text": [
            "CIFARNet(\n",
            "  (conv1): Conv2d(3, 32, kernel_size=(3, 3), stride=(1, 1))\n",
            "  (bn1): BatchNorm2d(32, eps=1e-05, momentum=0.1, affine=True, track_running_stats=True)\n",
            "  (conv2): Conv2d(32, 64, kernel_size=(3, 3), stride=(1, 1))\n",
            "  (bn2): BatchNorm2d(64, eps=1e-05, momentum=0.1, affine=True, track_running_stats=True)\n",
            "  (conv3): Conv2d(64, 128, kernel_size=(3, 3), stride=(1, 1))\n",
            "  (bn3): BatchNorm2d(128, eps=1e-05, momentum=0.1, affine=True, track_running_stats=True)\n",
            "  (conv4): Conv2d(128, 256, kernel_size=(3, 3), stride=(1, 1))\n",
            "  (bn4): BatchNorm2d(256, eps=1e-05, momentum=0.1, affine=True, track_running_stats=True)\n",
            "  (dropout1): Dropout2d(p=0.25, inplace=False)\n",
            "  (fc1): Linear(in_features=36864, out_features=128, bias=True)\n",
            "  (fc2): Linear(in_features=128, out_features=10, bias=True)\n",
            ")\n"
          ],
          "name": "stdout"
        }
      ]
    },
    {
      "cell_type": "markdown",
      "metadata": {
        "id": "NMCV6b4VmAY1"
      },
      "source": [
        "# Random test\n",
        "Let's do a random test to test the forward function of our net\n"
      ]
    },
    {
      "cell_type": "code",
      "metadata": {
        "colab": {
          "base_uri": "https://localhost:8080/"
        },
        "id": "OPwp9tLbl3Lx",
        "outputId": "c6b588a5-65db-45c5-cf8c-7cd13d8e52df"
      },
      "source": [
        "random_data = torch.randn((1, 3, 32, 32))\n",
        "result = cnet(random_data)\n",
        "print(result)"
      ],
      "execution_count": 28,
      "outputs": [
        {
          "output_type": "stream",
          "text": [
            "tensor([[-2.3058, -2.0429, -2.1701, -2.6527, -2.2328, -2.0961, -2.7632, -2.4916,\n",
            "         -2.1564, -2.3616]], grad_fn=<LogSoftmaxBackward>)\n"
          ],
          "name": "stdout"
        }
      ]
    },
    {
      "cell_type": "markdown",
      "metadata": {
        "id": "Ikb66Zxqn61_"
      },
      "source": [
        "# Training pipeline\n",
        "Let's define our CIFAR training pipeline, which is quite similar to the MNIST one. Therein lies the power of neural nets, a model can fit multiple datasets. Accuracy may vary according to the complexity of the dataset but tuning may help correct this.\n",
        "\n",
        "1.   Get model output with current input\n",
        "2.   Calculate loss\n",
        "3.   Calculate gradients\n",
        "4.   Update weights through optimizer\n",
        "\n",
        "the 'to(device)' function will allow us to place the tensor on GPU if available."
      ]
    },
    {
      "cell_type": "code",
      "metadata": {
        "id": "Ptt6PlQCmXzN"
      },
      "source": [
        "import tqdm\n",
        "\n",
        "net = CIFARNet()\n",
        "learning_rate = 1e-4\n",
        "epochs = 40\n",
        "#we use Adam optimizer as it converges faster compared to SGD\n",
        "optimizer = optim.Adam(net.parameters(), lr=learning_rate)\n",
        "criterion = nn.CrossEntropyLoss()"
      ],
      "execution_count": 40,
      "outputs": []
    },
    {
      "cell_type": "code",
      "metadata": {
        "colab": {
          "base_uri": "https://localhost:8080/"
        },
        "id": "O0Dqo3pfo7sd",
        "outputId": "5c4df880-aac3-41b0-bfcb-63721db609f5"
      },
      "source": [
        "net = net.to(device)\n",
        "#zero out the gradients\n",
        "for epoch in range(epochs):\n",
        "  net.train()\n",
        "  t = tqdm.tqdm(train_loader,leave=True, position=0)\n",
        "  for images,labels in t:\n",
        "    images = images.to(device)\n",
        "    labels = labels.long().to(device)\n",
        "    optimizer.zero_grad()\n",
        "    output = net.forward(images)\n",
        "    train_loss = criterion(output,labels)\n",
        "    train_loss.backward()\n",
        "    optimizer.step()\n",
        "    t.set_description(f'epoch:{epoch+1} : train loss:{train_loss.item():.4f}')\n",
        "    t.refresh()\n",
        "  #evaluate after each epoch\n",
        "  net.eval()\n",
        "  images,labels = next(iter(test_loader))\n",
        "  images = images.to(device)\n",
        "  labels = labels.to(device)\n",
        "  with torch.no_grad():\n",
        "    output = net(images)\n",
        "    valid_loss = criterion(output,labels)\n",
        "    print(f'epoch:{epoch+1} : valid loss:{valid_loss.item():.4f}\\n')"
      ],
      "execution_count": 41,
      "outputs": [
        {
          "output_type": "stream",
          "text": [
            "epoch:1 : train loss:1.3016: 100%|██████████| 782/782 [00:26<00:00, 29.84it/s]\n",
            "epoch:2 : train loss:1.3437:   1%|          | 4/782 [00:00<00:24, 31.81it/s]"
          ],
          "name": "stderr"
        },
        {
          "output_type": "stream",
          "text": [
            "epoch:1 : valid loss:0.9379\n",
            "\n"
          ],
          "name": "stdout"
        },
        {
          "output_type": "stream",
          "text": [
            "epoch:2 : train loss:1.1046: 100%|██████████| 782/782 [00:25<00:00, 30.18it/s]\n",
            "epoch:3 : train loss:1.0390:   0%|          | 3/782 [00:00<00:26, 29.60it/s]"
          ],
          "name": "stderr"
        },
        {
          "output_type": "stream",
          "text": [
            "epoch:2 : valid loss:0.7416\n",
            "\n"
          ],
          "name": "stdout"
        },
        {
          "output_type": "stream",
          "text": [
            "epoch:3 : train loss:1.2025: 100%|██████████| 782/782 [00:25<00:00, 30.85it/s]\n",
            "epoch:4 : train loss:1.0124:   1%|          | 4/782 [00:00<00:25, 31.07it/s]"
          ],
          "name": "stderr"
        },
        {
          "output_type": "stream",
          "text": [
            "epoch:3 : valid loss:0.5607\n",
            "\n"
          ],
          "name": "stdout"
        },
        {
          "output_type": "stream",
          "text": [
            "epoch:4 : train loss:0.6056: 100%|██████████| 782/782 [00:25<00:00, 30.57it/s]\n",
            "epoch:5 : train loss:0.7501:   1%|          | 4/782 [00:00<00:24, 31.71it/s]"
          ],
          "name": "stderr"
        },
        {
          "output_type": "stream",
          "text": [
            "epoch:4 : valid loss:0.5470\n",
            "\n"
          ],
          "name": "stdout"
        },
        {
          "output_type": "stream",
          "text": [
            "epoch:5 : train loss:1.1430: 100%|██████████| 782/782 [00:25<00:00, 30.70it/s]\n",
            "epoch:6 : train loss:0.6149:   0%|          | 3/782 [00:00<00:27, 28.40it/s]"
          ],
          "name": "stderr"
        },
        {
          "output_type": "stream",
          "text": [
            "epoch:5 : valid loss:0.5520\n",
            "\n"
          ],
          "name": "stdout"
        },
        {
          "output_type": "stream",
          "text": [
            "epoch:6 : train loss:0.6256: 100%|██████████| 782/782 [00:25<00:00, 30.74it/s]\n",
            "epoch:7 : train loss:0.5686:   1%|          | 4/782 [00:00<00:24, 32.18it/s]"
          ],
          "name": "stderr"
        },
        {
          "output_type": "stream",
          "text": [
            "epoch:6 : valid loss:0.4869\n",
            "\n"
          ],
          "name": "stdout"
        },
        {
          "output_type": "stream",
          "text": [
            "epoch:7 : train loss:0.3603: 100%|██████████| 782/782 [00:25<00:00, 30.57it/s]\n",
            "epoch:8 : train loss:0.5113:   1%|          | 4/782 [00:00<00:24, 31.52it/s]"
          ],
          "name": "stderr"
        },
        {
          "output_type": "stream",
          "text": [
            "epoch:7 : valid loss:0.4383\n",
            "\n"
          ],
          "name": "stdout"
        },
        {
          "output_type": "stream",
          "text": [
            "epoch:8 : train loss:0.7996: 100%|██████████| 782/782 [00:25<00:00, 30.74it/s]\n",
            "epoch:9 : train loss:0.8384:   1%|          | 4/782 [00:00<00:24, 32.02it/s]"
          ],
          "name": "stderr"
        },
        {
          "output_type": "stream",
          "text": [
            "epoch:8 : valid loss:0.4596\n",
            "\n"
          ],
          "name": "stdout"
        },
        {
          "output_type": "stream",
          "text": [
            "epoch:9 : train loss:0.5158: 100%|██████████| 782/782 [00:25<00:00, 30.76it/s]\n",
            "epoch:10 : train loss:0.4519:   1%|          | 4/782 [00:00<00:24, 31.81it/s]"
          ],
          "name": "stderr"
        },
        {
          "output_type": "stream",
          "text": [
            "epoch:9 : valid loss:0.4249\n",
            "\n"
          ],
          "name": "stdout"
        },
        {
          "output_type": "stream",
          "text": [
            "epoch:10 : train loss:0.4592: 100%|██████████| 782/782 [00:25<00:00, 30.63it/s]\n",
            "epoch:11 : train loss:0.5641:   1%|          | 4/782 [00:00<00:24, 32.31it/s]"
          ],
          "name": "stderr"
        },
        {
          "output_type": "stream",
          "text": [
            "epoch:10 : valid loss:0.3869\n",
            "\n"
          ],
          "name": "stdout"
        },
        {
          "output_type": "stream",
          "text": [
            "epoch:11 : train loss:0.6922: 100%|██████████| 782/782 [00:25<00:00, 30.60it/s]\n",
            "epoch:12 : train loss:0.3690:   1%|          | 4/782 [00:00<00:24, 31.78it/s]"
          ],
          "name": "stderr"
        },
        {
          "output_type": "stream",
          "text": [
            "epoch:11 : valid loss:0.4084\n",
            "\n"
          ],
          "name": "stdout"
        },
        {
          "output_type": "stream",
          "text": [
            "epoch:12 : train loss:0.6892: 100%|██████████| 782/782 [00:25<00:00, 30.82it/s]\n",
            "epoch:13 : train loss:0.3003:   1%|          | 4/782 [00:00<00:24, 31.37it/s]"
          ],
          "name": "stderr"
        },
        {
          "output_type": "stream",
          "text": [
            "epoch:12 : valid loss:0.5207\n",
            "\n"
          ],
          "name": "stdout"
        },
        {
          "output_type": "stream",
          "text": [
            "epoch:13 : train loss:0.5309: 100%|██████████| 782/782 [00:25<00:00, 30.77it/s]\n",
            "epoch:14 : train loss:0.3129:   1%|          | 4/782 [00:00<00:24, 32.05it/s]"
          ],
          "name": "stderr"
        },
        {
          "output_type": "stream",
          "text": [
            "epoch:13 : valid loss:0.4101\n",
            "\n"
          ],
          "name": "stdout"
        },
        {
          "output_type": "stream",
          "text": [
            "epoch:14 : train loss:0.2741: 100%|██████████| 782/782 [00:25<00:00, 30.63it/s]\n",
            "epoch:15 : train loss:0.3737:   1%|          | 4/782 [00:00<00:24, 31.61it/s]"
          ],
          "name": "stderr"
        },
        {
          "output_type": "stream",
          "text": [
            "epoch:14 : valid loss:0.2706\n",
            "\n"
          ],
          "name": "stdout"
        },
        {
          "output_type": "stream",
          "text": [
            "epoch:15 : train loss:0.1963: 100%|██████████| 782/782 [00:25<00:00, 30.72it/s]\n",
            "epoch:16 : train loss:0.2953:   1%|          | 4/782 [00:00<00:25, 30.90it/s]"
          ],
          "name": "stderr"
        },
        {
          "output_type": "stream",
          "text": [
            "epoch:15 : valid loss:0.4564\n",
            "\n"
          ],
          "name": "stdout"
        },
        {
          "output_type": "stream",
          "text": [
            "epoch:16 : train loss:0.5438: 100%|██████████| 782/782 [00:25<00:00, 30.58it/s]\n",
            "epoch:17 : train loss:0.3043:   1%|          | 4/782 [00:00<00:24, 31.26it/s]"
          ],
          "name": "stderr"
        },
        {
          "output_type": "stream",
          "text": [
            "epoch:16 : valid loss:0.3667\n",
            "\n"
          ],
          "name": "stdout"
        },
        {
          "output_type": "stream",
          "text": [
            "epoch:17 : train loss:0.3719: 100%|██████████| 782/782 [00:25<00:00, 30.54it/s]\n",
            "epoch:18 : train loss:0.2018:   0%|          | 3/782 [00:00<00:26, 29.28it/s]"
          ],
          "name": "stderr"
        },
        {
          "output_type": "stream",
          "text": [
            "epoch:17 : valid loss:0.3717\n",
            "\n"
          ],
          "name": "stdout"
        },
        {
          "output_type": "stream",
          "text": [
            "epoch:18 : train loss:0.0605: 100%|██████████| 782/782 [00:25<00:00, 30.55it/s]\n",
            "epoch:19 : train loss:0.2346:   1%|          | 4/782 [00:00<00:25, 30.41it/s]"
          ],
          "name": "stderr"
        },
        {
          "output_type": "stream",
          "text": [
            "epoch:18 : valid loss:0.4715\n",
            "\n"
          ],
          "name": "stdout"
        },
        {
          "output_type": "stream",
          "text": [
            "epoch:19 : train loss:0.3760: 100%|██████████| 782/782 [00:25<00:00, 30.53it/s]\n",
            "epoch:20 : train loss:0.2732:   1%|          | 4/782 [00:00<00:24, 31.65it/s]"
          ],
          "name": "stderr"
        },
        {
          "output_type": "stream",
          "text": [
            "epoch:19 : valid loss:0.4388\n",
            "\n"
          ],
          "name": "stdout"
        },
        {
          "output_type": "stream",
          "text": [
            "epoch:20 : train loss:0.1984: 100%|██████████| 782/782 [00:25<00:00, 30.71it/s]\n",
            "epoch:21 : train loss:0.2439:   0%|          | 3/782 [00:00<00:26, 29.66it/s]"
          ],
          "name": "stderr"
        },
        {
          "output_type": "stream",
          "text": [
            "epoch:20 : valid loss:0.4469\n",
            "\n"
          ],
          "name": "stdout"
        },
        {
          "output_type": "stream",
          "text": [
            "epoch:21 : train loss:0.0648: 100%|██████████| 782/782 [00:25<00:00, 30.44it/s]\n",
            "epoch:22 : train loss:0.1779:   1%|          | 4/782 [00:00<00:25, 31.04it/s]"
          ],
          "name": "stderr"
        },
        {
          "output_type": "stream",
          "text": [
            "epoch:21 : valid loss:0.3891\n",
            "\n"
          ],
          "name": "stdout"
        },
        {
          "output_type": "stream",
          "text": [
            "epoch:22 : train loss:0.0904: 100%|██████████| 782/782 [00:25<00:00, 30.58it/s]\n",
            "epoch:23 : train loss:0.2501:   1%|          | 4/782 [00:00<00:24, 31.22it/s]"
          ],
          "name": "stderr"
        },
        {
          "output_type": "stream",
          "text": [
            "epoch:22 : valid loss:0.6160\n",
            "\n"
          ],
          "name": "stdout"
        },
        {
          "output_type": "stream",
          "text": [
            "epoch:23 : train loss:0.2537: 100%|██████████| 782/782 [00:25<00:00, 30.25it/s]\n",
            "epoch:24 : train loss:0.1194:   1%|          | 4/782 [00:00<00:24, 31.86it/s]"
          ],
          "name": "stderr"
        },
        {
          "output_type": "stream",
          "text": [
            "epoch:23 : valid loss:0.4393\n",
            "\n"
          ],
          "name": "stdout"
        },
        {
          "output_type": "stream",
          "text": [
            "epoch:24 : train loss:0.0987: 100%|██████████| 782/782 [00:25<00:00, 30.53it/s]\n",
            "epoch:25 : train loss:0.1174:   1%|          | 4/782 [00:00<00:24, 31.71it/s]"
          ],
          "name": "stderr"
        },
        {
          "output_type": "stream",
          "text": [
            "epoch:24 : valid loss:0.3963\n",
            "\n"
          ],
          "name": "stdout"
        },
        {
          "output_type": "stream",
          "text": [
            "epoch:25 : train loss:0.3833: 100%|██████████| 782/782 [00:25<00:00, 30.58it/s]\n",
            "epoch:26 : train loss:0.1198:   1%|          | 4/782 [00:00<00:24, 31.66it/s]"
          ],
          "name": "stderr"
        },
        {
          "output_type": "stream",
          "text": [
            "epoch:25 : valid loss:0.4807\n",
            "\n"
          ],
          "name": "stdout"
        },
        {
          "output_type": "stream",
          "text": [
            "epoch:26 : train loss:0.0650: 100%|██████████| 782/782 [00:25<00:00, 30.49it/s]\n",
            "epoch:27 : train loss:0.1874:   1%|          | 4/782 [00:00<00:25, 30.90it/s]"
          ],
          "name": "stderr"
        },
        {
          "output_type": "stream",
          "text": [
            "epoch:26 : valid loss:0.4244\n",
            "\n"
          ],
          "name": "stdout"
        },
        {
          "output_type": "stream",
          "text": [
            "epoch:27 : train loss:0.3100: 100%|██████████| 782/782 [00:25<00:00, 30.43it/s]\n",
            "epoch:28 : train loss:0.2347:   1%|          | 4/782 [00:00<00:24, 32.01it/s]"
          ],
          "name": "stderr"
        },
        {
          "output_type": "stream",
          "text": [
            "epoch:27 : valid loss:0.6448\n",
            "\n"
          ],
          "name": "stdout"
        },
        {
          "output_type": "stream",
          "text": [
            "epoch:28 : train loss:0.1776: 100%|██████████| 782/782 [00:25<00:00, 30.42it/s]\n",
            "epoch:29 : train loss:0.1575:   1%|          | 4/782 [00:00<00:24, 31.19it/s]"
          ],
          "name": "stderr"
        },
        {
          "output_type": "stream",
          "text": [
            "epoch:28 : valid loss:0.4040\n",
            "\n"
          ],
          "name": "stdout"
        },
        {
          "output_type": "stream",
          "text": [
            "epoch:29 : train loss:0.2985: 100%|██████████| 782/782 [00:25<00:00, 30.48it/s]\n",
            "epoch:30 : train loss:0.1103:   0%|          | 3/782 [00:00<00:26, 29.89it/s]"
          ],
          "name": "stderr"
        },
        {
          "output_type": "stream",
          "text": [
            "epoch:29 : valid loss:0.5665\n",
            "\n"
          ],
          "name": "stdout"
        },
        {
          "output_type": "stream",
          "text": [
            "epoch:30 : train loss:0.3469: 100%|██████████| 782/782 [00:25<00:00, 30.24it/s]\n",
            "epoch:31 : train loss:0.1445:   1%|          | 4/782 [00:00<00:24, 31.27it/s]"
          ],
          "name": "stderr"
        },
        {
          "output_type": "stream",
          "text": [
            "epoch:30 : valid loss:0.5538\n",
            "\n"
          ],
          "name": "stdout"
        },
        {
          "output_type": "stream",
          "text": [
            "epoch:31 : train loss:0.0325: 100%|██████████| 782/782 [00:25<00:00, 30.18it/s]\n",
            "epoch:32 : train loss:0.1692:   1%|          | 4/782 [00:00<00:25, 30.99it/s]"
          ],
          "name": "stderr"
        },
        {
          "output_type": "stream",
          "text": [
            "epoch:31 : valid loss:0.4914\n",
            "\n"
          ],
          "name": "stdout"
        },
        {
          "output_type": "stream",
          "text": [
            "epoch:32 : train loss:0.0500: 100%|██████████| 782/782 [00:25<00:00, 30.39it/s]\n",
            "epoch:33 : train loss:0.1281:   1%|          | 4/782 [00:00<00:25, 30.45it/s]"
          ],
          "name": "stderr"
        },
        {
          "output_type": "stream",
          "text": [
            "epoch:32 : valid loss:0.6031\n",
            "\n"
          ],
          "name": "stdout"
        },
        {
          "output_type": "stream",
          "text": [
            "epoch:33 : train loss:0.0356: 100%|██████████| 782/782 [00:25<00:00, 30.23it/s]\n",
            "epoch:34 : train loss:0.0573:   0%|          | 3/782 [00:00<00:26, 29.33it/s]"
          ],
          "name": "stderr"
        },
        {
          "output_type": "stream",
          "text": [
            "epoch:33 : valid loss:0.4965\n",
            "\n"
          ],
          "name": "stdout"
        },
        {
          "output_type": "stream",
          "text": [
            "epoch:34 : train loss:0.0452: 100%|██████████| 782/782 [00:25<00:00, 30.37it/s]\n",
            "epoch:35 : train loss:0.1532:   1%|          | 4/782 [00:00<00:24, 32.02it/s]"
          ],
          "name": "stderr"
        },
        {
          "output_type": "stream",
          "text": [
            "epoch:34 : valid loss:0.6687\n",
            "\n"
          ],
          "name": "stdout"
        },
        {
          "output_type": "stream",
          "text": [
            "epoch:35 : train loss:0.1747: 100%|██████████| 782/782 [00:25<00:00, 30.13it/s]\n",
            "epoch:36 : train loss:0.1042:   1%|          | 4/782 [00:00<00:24, 32.03it/s]"
          ],
          "name": "stderr"
        },
        {
          "output_type": "stream",
          "text": [
            "epoch:35 : valid loss:0.4461\n",
            "\n"
          ],
          "name": "stdout"
        },
        {
          "output_type": "stream",
          "text": [
            "epoch:36 : train loss:0.0452: 100%|██████████| 782/782 [00:25<00:00, 30.36it/s]\n",
            "epoch:37 : train loss:0.0922:   1%|          | 4/782 [00:00<00:24, 31.95it/s]"
          ],
          "name": "stderr"
        },
        {
          "output_type": "stream",
          "text": [
            "epoch:36 : valid loss:0.2917\n",
            "\n"
          ],
          "name": "stdout"
        },
        {
          "output_type": "stream",
          "text": [
            "epoch:37 : train loss:0.0154: 100%|██████████| 782/782 [00:25<00:00, 30.28it/s]\n",
            "epoch:38 : train loss:0.0952:   0%|          | 3/782 [00:00<00:27, 28.80it/s]"
          ],
          "name": "stderr"
        },
        {
          "output_type": "stream",
          "text": [
            "epoch:37 : valid loss:0.6955\n",
            "\n"
          ],
          "name": "stdout"
        },
        {
          "output_type": "stream",
          "text": [
            "epoch:38 : train loss:0.0895: 100%|██████████| 782/782 [00:25<00:00, 30.45it/s]\n",
            "epoch:39 : train loss:0.0655:   0%|          | 3/782 [00:00<00:26, 29.95it/s]"
          ],
          "name": "stderr"
        },
        {
          "output_type": "stream",
          "text": [
            "epoch:38 : valid loss:0.7403\n",
            "\n"
          ],
          "name": "stdout"
        },
        {
          "output_type": "stream",
          "text": [
            "epoch:39 : train loss:0.0246: 100%|██████████| 782/782 [00:26<00:00, 29.98it/s]\n",
            "epoch:40 : train loss:0.2770:   1%|          | 4/782 [00:00<00:24, 31.95it/s]"
          ],
          "name": "stderr"
        },
        {
          "output_type": "stream",
          "text": [
            "epoch:39 : valid loss:0.4664\n",
            "\n"
          ],
          "name": "stdout"
        },
        {
          "output_type": "stream",
          "text": [
            "epoch:40 : train loss:0.0677: 100%|██████████| 782/782 [00:26<00:00, 29.96it/s]\n"
          ],
          "name": "stderr"
        },
        {
          "output_type": "stream",
          "text": [
            "epoch:40 : valid loss:0.4180\n",
            "\n"
          ],
          "name": "stdout"
        }
      ]
    },
    {
      "cell_type": "markdown",
      "metadata": {
        "id": "9l8e6750sSyE"
      },
      "source": [
        "# Test accuracy"
      ]
    },
    {
      "cell_type": "code",
      "metadata": {
        "colab": {
          "base_uri": "https://localhost:8080/"
        },
        "id": "8-SneZLppPnI",
        "outputId": "a0e98f9e-6b10-4e56-f656-cca49187aab2"
      },
      "source": [
        "test_loss = 0\n",
        "class_correct,class_total = [0]*10, [0] *10\n",
        "#we'll load the weights from first network\n",
        "net_eval=CIFARNet()\n",
        "net_eval.load_state_dict(net.state_dict())\n",
        "net_eval.eval()\n",
        "\n",
        "for images,targets in test_loader:\n",
        "  with torch.no_grad():\n",
        "    output = net_eval(images)\n",
        "    loss = criterion(output, targets)\n",
        "    test_loss += loss.item()*images.size(0)\n",
        "    _, pred = torch.max(output, 1)\n",
        "    correct = np.squeeze(pred.eq(targets.data.view_as(pred)))\n",
        "    for i in range(len(targets)):\n",
        "        label = targets.data[i]\n",
        "        class_correct[label] += correct[i].item()\n",
        "        class_total[label] += 1\n",
        "\n",
        "# calculate and print avg test loss\n",
        "test_loss = test_loss/len(test_loader.sampler)\n",
        "print(f'Test Loss: {test_loss:.6f}')\n",
        "print(f'Test accuracy: {np.sum(class_correct)/np.sum(class_total)*100} %')"
      ],
      "execution_count": 42,
      "outputs": [
        {
          "output_type": "stream",
          "text": [
            "Test Loss: 1.230928\n",
            "Test accuracy: 75.52 %\n"
          ],
          "name": "stdout"
        }
      ]
    },
    {
      "cell_type": "code",
      "metadata": {
        "id": "CLPneuP3snk6"
      },
      "source": [
        ""
      ],
      "execution_count": null,
      "outputs": []
    }
  ]
}